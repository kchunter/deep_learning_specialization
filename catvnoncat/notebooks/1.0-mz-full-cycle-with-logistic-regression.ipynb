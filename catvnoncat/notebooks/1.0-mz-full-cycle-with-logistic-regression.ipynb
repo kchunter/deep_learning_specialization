{
 "cells": [
  {
   "cell_type": "markdown",
   "id": "8e18a000",
   "metadata": {},
   "source": [
    "Training dataset: https://github.com/ridhimagarg/Cat-vs-Non-cat-Deep-learning-implementation/blob/master/datasets/train_catvnoncat.h5\n",
    "\n",
    "Testing dataset: https://github.com/ridhimagarg/Cat-vs-Non-cat-Deep-learning-implementation/blob/master/datasets/test_catvnoncat.h5"
   ]
  },
  {
   "cell_type": "code",
   "execution_count": 200,
   "id": "6cc6661c",
   "metadata": {},
   "outputs": [],
   "source": [
    "import numpy as np\n",
    "import copy\n",
    "import matplotlib.pyplot as plt\n",
    "import pickle"
   ]
  },
  {
   "cell_type": "code",
   "execution_count": 128,
   "id": "1ac7d50d",
   "metadata": {},
   "outputs": [],
   "source": [
    "hf1 = h5py.File(\"../data/raw/train_catvnoncat.h5\", \"r\")\n",
    "hf2 = h5py.File(\"../data/raw/test_catvnoncat.h5\", \"r\")"
   ]
  },
  {
   "cell_type": "code",
   "execution_count": 129,
   "id": "50f727e2",
   "metadata": {},
   "outputs": [
    {
     "data": {
      "text/plain": [
       "<KeysViewHDF5 ['list_classes', 'train_set_x', 'train_set_y']>"
      ]
     },
     "execution_count": 129,
     "metadata": {},
     "output_type": "execute_result"
    }
   ],
   "source": [
    "hf1.keys()"
   ]
  },
  {
   "cell_type": "code",
   "execution_count": 130,
   "id": "600af03c",
   "metadata": {},
   "outputs": [],
   "source": [
    "train_x, train_y, test_x, test_y, classes = hf1.get(\"train_set_x\"), hf1.get(\"train_set_y\"), hf2.get(\"test_set_x\"), hf2.get(\"test_set_y\"), hf1.get(\"list_classes\")"
   ]
  },
  {
   "cell_type": "code",
   "execution_count": 131,
   "id": "645a055a",
   "metadata": {},
   "outputs": [],
   "source": [
    "train_set_x_orig, train_set_y, classes = np.array(train_x), np.array(train_y), np.array(classes)"
   ]
  },
  {
   "cell_type": "code",
   "execution_count": 132,
   "id": "6e4a5395",
   "metadata": {},
   "outputs": [],
   "source": [
    "test_set_x_orig, test_set_y = np.array(test_x), np.array(test_y)"
   ]
  },
  {
   "cell_type": "code",
   "execution_count": 133,
   "id": "3dae7c9d",
   "metadata": {},
   "outputs": [
    {
     "data": {
      "text/plain": [
       "((209, 64, 64, 3), (209,))"
      ]
     },
     "execution_count": 133,
     "metadata": {},
     "output_type": "execute_result"
    }
   ],
   "source": [
    "train_set_x_orig.shape, train_set_y.shape"
   ]
  },
  {
   "cell_type": "code",
   "execution_count": 134,
   "id": "41de693d",
   "metadata": {},
   "outputs": [
    {
     "data": {
      "text/plain": [
       "((50, 64, 64, 3), (50,))"
      ]
     },
     "execution_count": 134,
     "metadata": {},
     "output_type": "execute_result"
    }
   ],
   "source": [
    "test_set_x_orig.shape, test_set_y.shape"
   ]
  },
  {
   "cell_type": "code",
   "execution_count": 135,
   "id": "2447456d",
   "metadata": {},
   "outputs": [],
   "source": [
    "idx = np.random.randint(0, 208)"
   ]
  },
  {
   "cell_type": "code",
   "execution_count": 136,
   "id": "57ad0891",
   "metadata": {},
   "outputs": [
    {
     "data": {
      "image/png": "[encoded data removed]",
      "text/plain": [
       "<Figure size 432x288 with 1 Axes>"
      ]
     },
     "metadata": {
      "needs_background": "light"
     },
     "output_type": "display_data"
    }
   ],
   "source": [
    "plt.imshow(train_set_x_orig[idx])\n",
    "plt.show()"
   ]
  },
  {
   "cell_type": "code",
   "execution_count": 137,
   "id": "05e5c762",
   "metadata": {},
   "outputs": [
    {
     "name": "stdout",
     "output_type": "stream",
     "text": [
      "y = 1. It is a 'cat' picture.\n"
     ]
    }
   ],
   "source": [
    "y = train_set_y[idx]\n",
    "print(f\"y = {y}. It is a '{classes[y].decode('utf-8')}' picture.\")"
   ]
  },
  {
   "cell_type": "code",
   "execution_count": 138,
   "id": "c5973337",
   "metadata": {},
   "outputs": [
    {
     "data": {
      "text/plain": [
       "(0, 255)"
      ]
     },
     "execution_count": 138,
     "metadata": {},
     "output_type": "execute_result"
    }
   ],
   "source": [
    "train_set_x_orig.min(), train_set_x_orig.max()"
   ]
  },
  {
   "cell_type": "code",
   "execution_count": 139,
   "id": "f080f47f",
   "metadata": {},
   "outputs": [
    {
     "data": {
      "text/plain": [
       "((12288, 209), (12288, 50))"
      ]
     },
     "execution_count": 139,
     "metadata": {},
     "output_type": "execute_result"
    }
   ],
   "source": [
    "train_set_x_flatten = train_set_x_orig.reshape(train_set_x_orig.shape[0], -1).T\n",
    "test_set_x_flatten = test_set_x_orig.reshape(test_set_x_orig.shape[0], -1).T\n",
    "\n",
    "train_set_x_flatten.shape, test_set_x_flatten.shape"
   ]
  },
  {
   "cell_type": "code",
   "execution_count": 140,
   "id": "a3da45ad",
   "metadata": {},
   "outputs": [
    {
     "data": {
      "text/plain": [
       "((1, 209), (1, 50))"
      ]
     },
     "execution_count": 140,
     "metadata": {},
     "output_type": "execute_result"
    }
   ],
   "source": [
    "train_set_y = train_set_y.reshape(1, train_set_y.shape[0])\n",
    "test_set_y = test_set_y.reshape(1, test_set_y.shape[0])\n",
    "\n",
    "train_set_y.shape, test_set_y.shape"
   ]
  },
  {
   "cell_type": "code",
   "execution_count": 141,
   "id": "4dc68b31",
   "metadata": {},
   "outputs": [],
   "source": [
    "train_set_x = train_set_x_flatten / 255\n",
    "test_set_x = test_set_x_flatten / 255"
   ]
  },
  {
   "cell_type": "code",
   "execution_count": 142,
   "id": "d04c443d",
   "metadata": {},
   "outputs": [
    {
     "data": {
      "text/plain": [
       "(0.0, 1.0)"
      ]
     },
     "execution_count": 142,
     "metadata": {},
     "output_type": "execute_result"
    }
   ],
   "source": [
    "train_set_x.min(), train_set_x.max()"
   ]
  },
  {
   "cell_type": "code",
   "execution_count": 171,
   "id": "192eda99",
   "metadata": {},
   "outputs": [
    {
     "name": "stderr",
     "output_type": "stream",
     "text": [
      "c:\\users\\matija\\desktop\\main\\ai\\development\\dev\\lib\\site-packages\\numpy\\lib\\format.py:362: UserWarning: metadata on a dtype may be saved or ignored, but will raise if saved when read. Use another form of storage.\n",
      "  d['descr'] = dtype_to_descr(array.dtype)\n"
     ]
    }
   ],
   "source": [
    "np.save(\"../data/processed/train_set_x\", train_set_x)\n",
    "np.save(\"../data/processed/train_set_y\", train_set_y)\n",
    "np.save(\"../data/processed/test_set_x\", test_set_x)\n",
    "np.save(\"../data/processed/test_set_y\", test_set_y)\n",
    "np.save(\"../data/processed/classes\", classes)"
   ]
  },
  {
   "cell_type": "code",
   "execution_count": 172,
   "id": "949a7c24",
   "metadata": {},
   "outputs": [],
   "source": [
    "#loaded_train_set_x = np.load(\"../data/processed/train_set_x.npy\")"
   ]
  },
  {
   "cell_type": "code",
   "execution_count": 155,
   "id": "87fb8cec",
   "metadata": {},
   "outputs": [],
   "source": [
    "def sigmoid(z):\n",
    "    \n",
    "    return 1 / (1 + np.exp(-z))"
   ]
  },
  {
   "cell_type": "code",
   "execution_count": 156,
   "id": "fba55879",
   "metadata": {},
   "outputs": [],
   "source": [
    "def initialize_parameters(dim):\n",
    "    \n",
    "    w = np.zeros((dim, 1))\n",
    "    b = 0.\n",
    "    \n",
    "    return w, b"
   ]
  },
  {
   "cell_type": "code",
   "execution_count": 157,
   "id": "e6714c3b",
   "metadata": {},
   "outputs": [],
   "source": [
    "def propagate(w, b, X, Y):\n",
    "    \n",
    "    m = X.shape[1]\n",
    "    \n",
    "    Z = w.T@X + b\n",
    "    A = sigmoid(Z)\n",
    "    \n",
    "    cost = -1/m * (Y@np.log(A).T + (1-Y)@np.log(1-A).T)\n",
    "    \n",
    "    dz = A-Y\n",
    "    \n",
    "    dw = 1/m * X@dz.T\n",
    "    db = 1/m * np.sum(dz)\n",
    "\n",
    "    grads = {\"dw\": dw,\n",
    "             \"db\": db}\n",
    "    \n",
    "    return grads, cost.item()"
   ]
  },
  {
   "cell_type": "code",
   "execution_count": 158,
   "id": "eab6e575",
   "metadata": {},
   "outputs": [],
   "source": [
    "def optimize(w, b, X, Y, n_iterations=100, lr=0.009, print_cost=False):\n",
    "    \n",
    "    \n",
    "    w = copy.deepcopy(w)\n",
    "    b = copy.deepcopy(b)\n",
    "    \n",
    "    costs = []\n",
    "    \n",
    "    for i in range(n_iterations):\n",
    "        \n",
    "        grads, cost = propagate(w, b, X, Y)\n",
    "        \n",
    "        dw = grads[\"dw\"]\n",
    "        db = grads[\"db\"]\n",
    "        \n",
    "        w -= lr*dw\n",
    "        b -= lr*db\n",
    "        \n",
    "        if not i % 100:\n",
    "            \n",
    "            costs.append(cost)\n",
    "            \n",
    "            if print_cost:\n",
    "                print(f\"Cost at the {i}. iteration: {cost}\")\n",
    "        \n",
    "    params = {\"w\": w,\n",
    "              \"b\": b}\n",
    "    \n",
    "    return params, costs"
   ]
  },
  {
   "cell_type": "code",
   "execution_count": 159,
   "id": "b31bc6ec",
   "metadata": {},
   "outputs": [],
   "source": [
    "def predict(w, b, X):\n",
    "    \n",
    "    Z = w.T@X + b\n",
    "    A = sigmoid(Z)\n",
    "    \n",
    "    Y_prediction = (A >= .5).astype(int)\n",
    "    \n",
    "    return Y_prediction"
   ]
  },
  {
   "cell_type": "code",
   "execution_count": 207,
   "id": "b7c933a2",
   "metadata": {},
   "outputs": [],
   "source": [
    "def model(X_train, Y_train, X_test, Y_test, n_iterations=2000, lr=0.5, print_cost=False, w=None, b=None):\n",
    "    \n",
    "    if w is None and b == None:\n",
    "        w, b = initialize_parameters(X_train.shape[0])\n",
    "        params, costs = optimize(w, b, X_train, Y_train, n_iterations, lr, print_cost)\n",
    "        w = params[\"w\"]\n",
    "        b = params[\"b\"]\n",
    "    else:\n",
    "        w, b = w, b\n",
    "    \n",
    "    Y_prediction_train = predict(w, b, X_train)\n",
    "    Y_prediction_test = predict(w, b, X_test)\n",
    "    \n",
    "    train_acc = (Y_train == Y_prediction_train).sum() / len(Y_train.T)\n",
    "    test_acc = (Y_test == Y_prediction_test).sum() / len(Y_test.T)\n",
    "    \n",
    "    print(f\"\\nTrain acc: {train_acc}, Test acc: {test_acc}\")\n",
    "    \n",
    "    d = {\"Y_prediction_test\": Y_prediction_test, \n",
    "         \"Y_prediction_train\" : Y_prediction_train, \n",
    "         \"w\" : w, \n",
    "         \"b\" : b,\n",
    "         \"learning_rate\" : lr,\n",
    "         \"num_iterations\": n_iterations}\n",
    "    \n",
    "    if \"costs\" in locals():\n",
    "        d[\"costs\"] = costs\n",
    "    \n",
    "    return d"
   ]
  },
  {
   "cell_type": "code",
   "execution_count": 211,
   "id": "06486e34",
   "metadata": {},
   "outputs": [
    {
     "name": "stdout",
     "output_type": "stream",
     "text": [
      "Cost at the 0. iteration: 0.6931471805599453\n",
      "Cost at the 100. iteration: 0.5845083636993086\n",
      "Cost at the 200. iteration: 0.4669490409465547\n",
      "Cost at the 300. iteration: 0.37600686694802077\n",
      "Cost at the 400. iteration: 0.3314632893282512\n",
      "Cost at the 500. iteration: 0.303273067474383\n",
      "Cost at the 600. iteration: 0.2798795865826048\n",
      "Cost at the 700. iteration: 0.2600421369258757\n",
      "Cost at the 800. iteration: 0.2429406846779662\n",
      "Cost at the 900. iteration: 0.22800422256726066\n",
      "Cost at the 1000. iteration: 0.21481951378449635\n",
      "Cost at the 1100. iteration: 0.20307819060644985\n",
      "Cost at the 1200. iteration: 0.19254427716706862\n",
      "Cost at the 1300. iteration: 0.183033337968835\n",
      "Cost at the 1400. iteration: 0.17439859438448874\n",
      "Cost at the 1500. iteration: 0.16652139705400326\n",
      "Cost at the 1600. iteration: 0.15930451829756614\n",
      "Cost at the 1700. iteration: 0.15266732471296504\n",
      "Cost at the 1800. iteration: 0.1465422350398234\n",
      "Cost at the 1900. iteration: 0.1408720757031016\n",
      "\n",
      "Train acc: 0.9904306220095693, Test acc: 0.7\n"
     ]
    }
   ],
   "source": [
    "logistic_regression_model = model(train_set_x, train_set_y, test_set_x, test_set_y, n_iterations=2000, lr=0.005, print_cost=True, w=None, b=None)"
   ]
  },
  {
   "cell_type": "code",
   "execution_count": 201,
   "id": "e0b8378d",
   "metadata": {},
   "outputs": [],
   "source": [
    "parameters = {\"weights\": logistic_regression_model[\"w\"],\n",
    "              \"bias\": logistic_regression_model[\"b\"]}"
   ]
  },
  {
   "cell_type": "code",
   "execution_count": 202,
   "id": "608563fa",
   "metadata": {},
   "outputs": [],
   "source": [
    "file = open(\"../models/model_parameters.pickle\", \"wb\")\n",
    "pickle.dump(parameters, file)"
   ]
  }
 ],
 "metadata": {
  "kernelspec": {
   "display_name": "Python 3",
   "language": "python",
   "name": "python3"
  },
  "language_info": {
   "codemirror_mode": {
    "name": "ipython",
    "version": 3
   },
   "file_extension": ".py",
   "mimetype": "text/x-python",
   "name": "python",
   "nbconvert_exporter": "python",
   "pygments_lexer": "ipython3",
   "version": "3.9.4"
  }
 },
 "nbformat": 4,
 "nbformat_minor": 5
}
