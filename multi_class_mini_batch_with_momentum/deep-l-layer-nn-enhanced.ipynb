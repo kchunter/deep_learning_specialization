{
 "cells": [
  {
   "cell_type": "code",
   "execution_count": 407,
   "id": "a393a9ed",
   "metadata": {},
   "outputs": [],
   "source": [
    "import numpy as np\n",
    "import h5py\n",
    "import matplotlib.pyplot as plt\n",
    "from sklearn.datasets import make_blobs\n",
    "import math\n",
    "import time\n",
    "from dnn_utils import sigmoid, sigmoid_backward, relu, relu_backward\n",
    "\n",
    "%matplotlib inline\n",
    "\n",
    "np.random.seed(1)"
   ]
  },
  {
   "cell_type": "code",
   "execution_count": 357,
   "id": "596e625e",
   "metadata": {},
   "outputs": [],
   "source": [
    "X, Y = make_blobs(n_samples=2000, centers=3, n_features=2, cluster_std=1, random_state=0)"
   ]
  },
  {
   "cell_type": "code",
   "execution_count": 358,
   "id": "ee6ff0c3",
   "metadata": {},
   "outputs": [
    {
     "data": {
      "text/plain": [
       "((2000, 2), (2000,))"
      ]
     },
     "execution_count": 358,
     "metadata": {},
     "output_type": "execute_result"
    }
   ],
   "source": [
    "X.shape, Y.shape"
   ]
  },
  {
   "cell_type": "code",
   "execution_count": 359,
   "id": "610cea89",
   "metadata": {},
   "outputs": [
    {
     "data": {
      "text/plain": [
       "(array([0.45545506, 2.70081657]), array([3.27079466, 2.85871414]))"
      ]
     },
     "execution_count": 359,
     "metadata": {},
     "output_type": "execute_result"
    }
   ],
   "source": [
    "X.mean(axis=0), X.var(axis=0)"
   ]
  },
  {
   "cell_type": "code",
   "execution_count": 360,
   "id": "7e26eb83",
   "metadata": {},
   "outputs": [],
   "source": [
    "X = (X - X.mean(axis=0, keepdims=True)) / X.std(axis=0, keepdims=True)"
   ]
  },
  {
   "cell_type": "code",
   "execution_count": 361,
   "id": "5f2650c6",
   "metadata": {},
   "outputs": [
    {
     "data": {
      "text/plain": [
       "(array([-3.96793709e-16,  4.08006962e-16]), array([1., 1.]))"
      ]
     },
     "execution_count": 361,
     "metadata": {},
     "output_type": "execute_result"
    }
   ],
   "source": [
    "X.mean(axis=0), X.var(axis=0)"
   ]
  },
  {
   "cell_type": "code",
   "execution_count": 362,
   "id": "8ce2f436",
   "metadata": {},
   "outputs": [],
   "source": [
    "samples = {}"
   ]
  },
  {
   "cell_type": "code",
   "execution_count": 363,
   "id": "7f1eb1da",
   "metadata": {},
   "outputs": [],
   "source": [
    "for i in range(len(np.unique(Y))):\n",
    "    samples[f\"class_{i}\"] = X[Y==i]"
   ]
  },
  {
   "cell_type": "code",
   "execution_count": 364,
   "id": "9c02c1ff",
   "metadata": {},
   "outputs": [
    {
     "data": {
      "image/png": "[encoded data removed]",
      "text/plain": [
       "<Figure size 432x288 with 1 Axes>"
      ]
     },
     "metadata": {
      "needs_background": "light"
     },
     "output_type": "display_data"
    }
   ],
   "source": [
    "for i in range(len(samples)):\n",
    "    plt.scatter(samples[f\"class_{i}\"][:, 0], samples[f\"class_{i}\"][:, 1])\n",
    "plt.show()"
   ]
  },
  {
   "cell_type": "code",
   "execution_count": 365,
   "id": "a30a5e91",
   "metadata": {},
   "outputs": [],
   "source": [
    "X = X.T\n",
    "Y = Y.reshape(1, -1)"
   ]
  },
  {
   "cell_type": "code",
   "execution_count": 366,
   "id": "8f9e8a20",
   "metadata": {},
   "outputs": [
    {
     "name": "stdout",
     "output_type": "stream",
     "text": [
      "(2, 2000)\n",
      "(1, 2000)\n"
     ]
    }
   ],
   "source": [
    "print(X.shape)\n",
    "print(Y.shape)"
   ]
  },
  {
   "cell_type": "code",
   "execution_count": 367,
   "id": "ae1d2b9e",
   "metadata": {},
   "outputs": [],
   "source": [
    "#Added better initialization techniques (He and Xavier)\n",
    "def initialize_parameters_deep(layer_dims):\n",
    "    \n",
    "    np.random.seed(3)\n",
    "    parameters = {}\n",
    "    L = len(layer_dims)\n",
    "    \n",
    "    for l in range(1, L-1):\n",
    "        \n",
    "        parameters[f\"W{l}\"] = np.random.randn(layer_dims[l], layer_dims[l-1]) * np.sqrt(2/layer_dims[l-1]) #He Normal Initialization\n",
    "        parameters[f\"b{l}\"] = np.zeros((layer_dims[l], 1))\n",
    "    \n",
    "    n = layer_dims[L-2]\n",
    "    m = layer_dims[L-1]\n",
    "    \n",
    "    parameters[f\"W{L-1}\"] = np.random.uniform(low=-(np.sqrt(6) / np.sqrt(n + m)), high=(np.sqrt(6) / np.sqrt(n + m)), size=(m, n)) #Normalized Xavier Uniform Weight Initialization\n",
    "    parameters[f\"b{L-1}\"] = np.zeros((m, 1))\n",
    "    \n",
    "    return parameters"
   ]
  },
  {
   "cell_type": "code",
   "execution_count": 368,
   "id": "da65fffb",
   "metadata": {},
   "outputs": [],
   "source": [
    "def linear_forward(A, W, b):\n",
    "    \n",
    "    Z = W@A + b\n",
    "    \n",
    "    cache = (A, W, b)\n",
    "    \n",
    "    return Z, cache"
   ]
  },
  {
   "cell_type": "code",
   "execution_count": 369,
   "id": "02a1d04d",
   "metadata": {},
   "outputs": [],
   "source": [
    "def linear_activation_forward(A_prev, W, b, activation):\n",
    "    \n",
    "    if activation == \"relu\":\n",
    "        Z, linear_cache = linear_forward(A_prev, W, b)\n",
    "        A, activation_cache = relu(Z)\n",
    "        \n",
    "    elif activation == \"sigmoid\":\n",
    "        Z, linear_cache = linear_forward(A_prev, W, b)\n",
    "        A, activation_cache = sigmoid(Z)\n",
    "        \n",
    "    elif activation == \"softmax\":\n",
    "        Z, linear_cache = linear_forward(A_prev, W, b)\n",
    "        A, activation_cache = softmax(Z)\n",
    "    \n",
    "    cache = (linear_cache, activation_cache)\n",
    "    \n",
    "    return A, cache"
   ]
  },
  {
   "cell_type": "code",
   "execution_count": 370,
   "id": "6a089209",
   "metadata": {},
   "outputs": [],
   "source": [
    "def L_model_forward(X, parameters, keep_prob=1.):\n",
    "    \n",
    "    L = len(parameters) // 2\n",
    "    caches = []\n",
    "    A = X\n",
    "    Ds = []\n",
    "    \n",
    "    for l in range(1, L):\n",
    "        \n",
    "        A_prev = A\n",
    "        A, cache = linear_activation_forward(A_prev, parameters[f\"W{l}\"], parameters[f\"b{l}\"], \"relu\")\n",
    "        D = np.random.rand(A.shape[0], A.shape[1])\n",
    "        D = (D < keep_prob).astype(int)\n",
    "        A = A * D\n",
    "        A = A / keep_prob\n",
    "        Ds.append(D)\n",
    "        caches.append(cache)\n",
    "\n",
    "    AL, cache = linear_activation_forward(A, parameters[f\"W{L}\"], parameters[f\"b{L}\"], \"softmax\")\n",
    "    caches.append(cache)\n",
    "    \n",
    "    return AL, caches, Ds"
   ]
  },
  {
   "cell_type": "code",
   "execution_count": 371,
   "id": "5886b26f",
   "metadata": {},
   "outputs": [],
   "source": [
    "#Added L2 regularization\n",
    "def compute_cost(AL, Y, parameters, lambd):\n",
    "    \n",
    "    m = Y.shape[1]\n",
    "    L = len(parameters) // 2\n",
    "    sum_of_squared_weights = 0.\n",
    "    \n",
    "    log_likelihood = -np.log(AL[Y, range(m)])\n",
    "    \n",
    "    categorical_cross_entropy_cost = np.sum(log_likelihood) / m\n",
    "    \n",
    "    for l in range(L):\n",
    "        sum_of_squared_weights += np.sum(np.square(parameters[f\"W{l+1}\"]))\n",
    "    \n",
    "    L2_regularization_cost = lambd/(2*m) * sum_of_squared_weights\n",
    "    \n",
    "    cost = categorical_cross_entropy_cost + L2_regularization_cost\n",
    "    \n",
    "    return cost"
   ]
  },
  {
   "cell_type": "code",
   "execution_count": 372,
   "id": "0e863a1b",
   "metadata": {},
   "outputs": [],
   "source": [
    "#Modifying gradients because we've changed the cost function\n",
    "def linear_backward(dZ, cache, lambd):\n",
    "    \n",
    "    A_prev, W, b = cache\n",
    "    \n",
    "    m = A_prev.shape[1]\n",
    "    \n",
    "    dW = 1/m * (dZ@A_prev.T) + lambd/m * W\n",
    "    db = 1/m * np.sum(dZ, axis=1, keepdims=True)\n",
    "    dA_prev = W.T@dZ\n",
    "    \n",
    "    return dA_prev, dW, db"
   ]
  },
  {
   "cell_type": "code",
   "execution_count": 373,
   "id": "5ddd0af3",
   "metadata": {},
   "outputs": [],
   "source": [
    "def linear_activation_backward(dA, cache, activation, lambd):\n",
    "    \n",
    "    linear_cache, activation_cache = cache\n",
    "    \n",
    "    if activation == \"relu\":\n",
    "        dZ = relu_backward(dA, activation_cache)\n",
    "        \n",
    "    elif activation == \"sigmoid\":\n",
    "        dZ = sigmoid_backward(dA, activation_cache)\n",
    "        \n",
    "    elif activation == \"softmax\":\n",
    "        dZ = softmax_backward(dA, activation_cache)\n",
    "        \n",
    "    dA_prev, dW, db = linear_backward(dZ, linear_cache, lambd)\n",
    "    \n",
    "    return dA_prev, dW, db"
   ]
  },
  {
   "cell_type": "code",
   "execution_count": 374,
   "id": "3f4a91db",
   "metadata": {},
   "outputs": [],
   "source": [
    "def L_model_backward(AL, Y, caches, Ds, lambd=0, keep_prob=1.):\n",
    "    \n",
    "    grads = {}\n",
    "    L = len(caches)\n",
    "    m = AL.shape[1]\n",
    "    Y_hat = np.zeros_like(AL)\n",
    "    Y_hat[Y, range(m)] = 1\n",
    "    \n",
    "    dZ = AL - Y_hat\n",
    "    current_cache = caches[L-1]\n",
    "    linear_cache, _ = current_cache\n",
    "    \n",
    "    dA_prev_temp, dW_temp, db_temp = linear_backward(dZ, linear_cache, lambd)\n",
    "    \n",
    "    dA_prev_temp = dA_prev_temp * Ds[L-2]\n",
    "    dA_prev_temp = dA_prev_temp / keep_prob\n",
    "    grads[f\"dA{L-1}\"] = dA_prev_temp\n",
    "    grads[f\"dW{L}\"] = dW_temp\n",
    "    grads[f\"db{L}\"] = db_temp\n",
    "    \n",
    "    for l in reversed(range(1, L-1)):\n",
    "        \n",
    "        current_cache = caches[l]\n",
    "        D = Ds[l-1]\n",
    "        dA_prev_temp, dW_temp, db_temp = linear_activation_backward(dA_prev_temp, current_cache, \"relu\", lambd)\n",
    "        \n",
    "        dA_prev_temp = dA_prev_temp * D\n",
    "        dA_prev_temp = dA_prev_temp / keep_prob\n",
    "        grads[f\"dA{l}\"] = dA_prev_temp\n",
    "        grads[f\"dW{l+1}\"] = dW_temp\n",
    "        grads[f\"db{l+1}\"] = db_temp\n",
    "    \n",
    "    current_cache = caches[0]\n",
    "    dA_prev_temp, dW_temp, db_temp = linear_activation_backward(dA_prev_temp, current_cache, \"relu\", lambd)\n",
    "    grads[f\"dA{0}\"] = dA_prev_temp\n",
    "    grads[f\"dW{1}\"] = dW_temp\n",
    "    grads[f\"db{1}\"] = db_temp\n",
    "        \n",
    "    return grads"
   ]
  },
  {
   "cell_type": "code",
   "execution_count": 383,
   "id": "a18b9d33",
   "metadata": {},
   "outputs": [],
   "source": [
    "def update_parameters_with_gd(params, grads, learning_rate):\n",
    "    \n",
    "    parameters = params.copy()\n",
    "    L = len(parameters) // 2\n",
    "    \n",
    "    for l in range(L):\n",
    "        parameters[f\"W{l+1}\"] = parameters[f\"W{l+1}\"] - learning_rate * grads[f\"dW{l+1}\"]\n",
    "        parameters[f\"b{l+1}\"] = parameters[f\"b{l+1}\"] - learning_rate * grads[f\"db{l+1}\"]\n",
    "        \n",
    "    return parameters"
   ]
  },
  {
   "cell_type": "code",
   "execution_count": 376,
   "id": "19f17884",
   "metadata": {},
   "outputs": [],
   "source": [
    "def fetch_mini_batches(X, Y, mini_batch_size=64, seed=0):\n",
    "    \n",
    "    np.random.seed(seed)\n",
    "    \n",
    "    m = X.shape[1]\n",
    "    mini_batches = [] \n",
    "    inc = mini_batch_size  \n",
    "    num_complete_minibatches = math.floor(m / mini_batch_size)\n",
    "    \n",
    "    permutation = list(np.random.permutation(m))\n",
    "    shuffled_X = X[:, permutation]\n",
    "    shuffled_Y = Y[:, permutation]\n",
    "    \n",
    "    for i in range(num_complete_minibatches):\n",
    "        \n",
    "        mini_batch_X = shuffled_X[:, i*inc:(i+1)*inc]\n",
    "        mini_batch_Y = shuffled_Y[:, i*inc:(i+1)*inc]\n",
    "        \n",
    "        mini_batch = (mini_batch_X, mini_batch_Y)\n",
    "        mini_batches.append(mini_batch)\n",
    "        \n",
    "    if m % mini_batch_size != 0:\n",
    "        \n",
    "        mini_batch_X = shuffled_X[:, num_complete_minibatches*inc:]\n",
    "        mini_batch_Y = shuffled_Y[:, num_complete_minibatches*inc:]\n",
    "        \n",
    "        mini_batch = (mini_batch_X, mini_batch_Y)\n",
    "        mini_batches.append(mini_batch)\n",
    "    \n",
    "    return mini_batches"
   ]
  },
  {
   "cell_type": "code",
   "execution_count": 391,
   "id": "e87ebbdd",
   "metadata": {},
   "outputs": [],
   "source": [
    "def initialize_velocity(parameters):\n",
    "    \n",
    "    L = len(parameters) // 2\n",
    "    v = {}\n",
    "    \n",
    "    for l in range(L):\n",
    "        v[f\"dW{l+1}\"] = np.zeros_like(parameters[f\"W{l+1}\"])\n",
    "        v[f\"db{l+1}\"] = np.zeros_like(parameters[f\"b{l+1}\"])\n",
    "    \n",
    "    return v"
   ]
  },
  {
   "cell_type": "code",
   "execution_count": 393,
   "id": "0c640cc6",
   "metadata": {},
   "outputs": [],
   "source": [
    "def update_parameters_with_momentum(parameters, grads, v, beta, learning_rate):\n",
    "    \n",
    "    L = len(parameters) // 2\n",
    "    \n",
    "    for l in range(L):\n",
    "        \n",
    "        v[f\"dW{l+1}\"] = beta * v[f\"dW{l+1}\"] + (1 - beta) * grads[f\"dW{l+1}\"]\n",
    "        v[f\"db{l+1}\"] = beta * v[f\"db{l+1}\"] + (1 - beta) * grads[f\"db{l+1}\"]\n",
    "        \n",
    "        parameters[f\"W{l+1}\"] = parameters[f\"W{l+1}\"] - learning_rate * v[f\"dW{l+1}\"]\n",
    "        parameters[f\"b{l+1}\"] = parameters[f\"b{l+1}\"] - learning_rate * v[f\"db{l+1}\"]\n",
    "    \n",
    "    return parameters, v"
   ]
  },
  {
   "cell_type": "code",
   "execution_count": 460,
   "id": "3cd237a4",
   "metadata": {},
   "outputs": [],
   "source": [
    "#Custom function. Not available in the original/corresponding notebook.\n",
    "def predict(X, Y, parameters):\n",
    "    \n",
    "    AL, _, _ = L_model_forward(X, parameters)\n",
    "    \n",
    "    predictions = np.argmax(AL, axis=0)\n",
    "    if Y is not None:\n",
    "        accuracy = np.average(predictions == Y)\n",
    "        print(f\"Accuracy: {accuracy}\")\n",
    "    else:\n",
    "        accuracy = None\n",
    "    \n",
    "    return accuracy, predictions"
   ]
  },
  {
   "cell_type": "code",
   "execution_count": 378,
   "id": "42210165",
   "metadata": {},
   "outputs": [],
   "source": [
    "#layers_dims = [12288, 20, 7, 5, 1]\n",
    "layers_dims = [X.shape[0], 30, 10, 3]"
   ]
  },
  {
   "cell_type": "code",
   "execution_count": 424,
   "id": "1736988c",
   "metadata": {},
   "outputs": [],
   "source": [
    "# GRADED FUNCTION: L_layer_model (copied from the corresponding notebook)\n",
    "\n",
    "def L_layer_model(X, Y, layers_dims, optimizer, learning_rate = .001, mini_batch_size=64, beta=.9, lambd = 0, keep_prob = 1., num_iterations = 30000, print_cost=False):\n",
    "    \"\"\"\n",
    "    Implements a L-layer neural network: [LINEAR->RELU]*(L-1)->LINEAR->SIGMOID.\n",
    "    \n",
    "    Arguments:\n",
    "    X -- data, numpy array of shape (num_px * num_px * 3, number of examples)\n",
    "    Y -- true \"label\" vector (containing 0 if cat, 1 if non-cat), of shape (1, number of examples)\n",
    "    layers_dims -- list containing the input size and each layer size, of length (number of layers + 1).\n",
    "    learning_rate -- learning rate of the gradient descent update rule\n",
    "    num_iterations -- number of iterations of the optimization loop\n",
    "    print_cost -- if True, it prints the cost every 100 steps\n",
    "    \n",
    "    Returns:\n",
    "    parameters -- parameters learnt by the model. They can then be used to predict.\n",
    "    \"\"\"\n",
    "    seed = 10\n",
    "    costs = []                         # keep track of cost\n",
    "    \n",
    "    # Parameters initialization.\n",
    "    #(≈ 1 line of code)\n",
    "    # parameters = ...\n",
    "    # YOUR CODE STARTS HERE\n",
    "    parameters = initialize_parameters_deep(layers_dims)\n",
    "    \n",
    "    if optimizer == \"gd\":\n",
    "        pass\n",
    "    elif optimizer == \"momentum\":\n",
    "        v = initialize_velocity(parameters)\n",
    "    \n",
    "    # YOUR CODE ENDS HERE\n",
    "    \n",
    "    # Loop (gradient descent)\n",
    "    for i in range(0, num_iterations):\n",
    "        \n",
    "        seed = seed + i\n",
    "        mini_batches = fetch_mini_batches(X, Y, mini_batch_size, seed)\n",
    "        \n",
    "        for mini_batch_X, mini_batch_Y in mini_batches:\n",
    "            # Forward propagation: [LINEAR -> RELU]*(L-1) -> LINEAR -> SIGMOID.\n",
    "            #(≈ 1 line of code)\n",
    "            # AL, caches = ...\n",
    "            # YOUR CODE STARTS HERE\n",
    "            \n",
    "            AL, caches, Ds = L_model_forward(mini_batch_X, parameters, keep_prob)\n",
    "            # YOUR CODE ENDS HERE\n",
    "\n",
    "            # Compute cost.\n",
    "            #(≈ 1 line of code)\n",
    "            # cost = ...\n",
    "            # YOUR CODE STARTS HERE\n",
    "            cost = compute_cost(AL, mini_batch_Y, parameters, lambd)\n",
    "\n",
    "            # YOUR CODE ENDS HERE\n",
    "\n",
    "            # Backward propagation.\n",
    "            #(≈ 1 line of code)\n",
    "            # grads = ...    \n",
    "            # YOUR CODE STARTS HERE\n",
    "            grads = L_model_backward(AL, mini_batch_Y, caches, Ds, lambd, keep_prob)\n",
    "\n",
    "            # YOUR CODE ENDS HERE\n",
    "\n",
    "            # Update parameters.\n",
    "            #(≈ 1 line of code)\n",
    "            # parameters = ...\n",
    "            # YOUR CODE STARTS HERE\n",
    "            if optimizer == \"gd\":\n",
    "                parameters = update_parameters_with_gd(parameters, grads, learning_rate)\n",
    "            elif optimizer == \"momentum\":\n",
    "                parameters, v = update_parameters_with_momentum(parameters, grads, v, beta, learning_rate)\n",
    "\n",
    "            # YOUR CODE ENDS HERE\n",
    "        # Print the cost every 100 iterations\n",
    "        if print_cost and i % 100 == 0 or i == num_iterations - 1:\n",
    "            print(\"Cost after iteration {}: {}\".format(i, np.squeeze(cost)))\n",
    "        if i % 100 == 0 or i == num_iterations:\n",
    "            costs.append(cost)    \n",
    "    \n",
    "    return parameters, costs"
   ]
  },
  {
   "cell_type": "code",
   "execution_count": 428,
   "id": "c96db484",
   "metadata": {},
   "outputs": [
    {
     "name": "stdout",
     "output_type": "stream",
     "text": [
      "Cost after iteration 999: 0.08607017560536984\n"
     ]
    }
   ],
   "source": [
    "parameters, costs = L_layer_model(X, Y, layers_dims, optimizer=\"gd\", learning_rate=1e-3, num_iterations=1000)"
   ]
  },
  {
   "cell_type": "code",
   "execution_count": 457,
   "id": "e36baf05",
   "metadata": {},
   "outputs": [
    {
     "name": "stdout",
     "output_type": "stream",
     "text": [
      "Accuracy: 0.927\n"
     ]
    }
   ],
   "source": [
    "pred_train, _ = predict(X, Y, parameters)"
   ]
  },
  {
   "cell_type": "code",
   "execution_count": null,
   "id": "6358d20b",
   "metadata": {},
   "outputs": [],
   "source": []
  },
  {
   "cell_type": "code",
   "execution_count": 550,
   "id": "d496f9ee",
   "metadata": {},
   "outputs": [],
   "source": [
    "X1_min, X2_min = X[0, :].min() - .5, X[1, :].min() - .5\n",
    "X1_max, X2_max = X[0, :].max() + .5, X[1, :].max() + .5\n",
    "\n",
    "X1_range = np.arange(X1_min, X1_max, .1)\n",
    "X2_range = np.arange(X2_min, X2_max, .1)\n",
    "\n",
    "X1_, X2_ = np.meshgrid(X1_range, X2_range)"
   ]
  },
  {
   "cell_type": "code",
   "execution_count": 551,
   "id": "a83d31b7",
   "metadata": {},
   "outputs": [
    {
     "data": {
      "text/plain": [
       "((62, 67), (62, 67))"
      ]
     },
     "execution_count": 551,
     "metadata": {},
     "output_type": "execute_result"
    }
   ],
   "source": [
    "X1_.shape, X2_.shape"
   ]
  },
  {
   "cell_type": "code",
   "execution_count": 554,
   "id": "554060b9",
   "metadata": {},
   "outputs": [],
   "source": [
    "X1, X2 = X1_.flatten(), X2_.flatten()\n",
    "X1, X2 = X1.reshape((len(X1), 1)), X2.reshape((len(X2), 1))\n",
    "grid = np.hstack((X1, X2))"
   ]
  },
  {
   "cell_type": "code",
   "execution_count": 555,
   "id": "7a3e1dca",
   "metadata": {},
   "outputs": [
    {
     "data": {
      "text/plain": [
       "(4154, 2)"
      ]
     },
     "execution_count": 555,
     "metadata": {},
     "output_type": "execute_result"
    }
   ],
   "source": [
    "grid.shape"
   ]
  },
  {
   "cell_type": "code",
   "execution_count": 556,
   "id": "a61b5d0b",
   "metadata": {},
   "outputs": [],
   "source": [
    "grid = grid.T"
   ]
  },
  {
   "cell_type": "code",
   "execution_count": 557,
   "id": "8453bdba",
   "metadata": {},
   "outputs": [],
   "source": [
    "_, predictions = predict(grid, None, parameters)"
   ]
  },
  {
   "cell_type": "code",
   "execution_count": 558,
   "id": "48affcae",
   "metadata": {},
   "outputs": [
    {
     "data": {
      "text/plain": [
       "(4154,)"
      ]
     },
     "execution_count": 558,
     "metadata": {},
     "output_type": "execute_result"
    }
   ],
   "source": [
    "predictions.shape"
   ]
  },
  {
   "cell_type": "code",
   "execution_count": 559,
   "id": "17fa5296",
   "metadata": {},
   "outputs": [],
   "source": [
    "predictions = np.expand_dims(predictions, axis=1)"
   ]
  },
  {
   "cell_type": "code",
   "execution_count": 560,
   "id": "5dfe1094",
   "metadata": {},
   "outputs": [],
   "source": [
    "predictions = predictions.reshape(X1_.shape)"
   ]
  },
  {
   "cell_type": "code",
   "execution_count": 561,
   "id": "aa9f3820",
   "metadata": {},
   "outputs": [
    {
     "data": {
      "text/plain": [
       "(62, 67)"
      ]
     },
     "execution_count": 561,
     "metadata": {},
     "output_type": "execute_result"
    }
   ],
   "source": [
    "predictions.shape"
   ]
  },
  {
   "cell_type": "code",
   "execution_count": 562,
   "id": "641b31a0",
   "metadata": {},
   "outputs": [
    {
     "data": {
      "image/png": "[encoded data removed]",
      "text/plain": [
       "<Figure size 432x288 with 1 Axes>"
      ]
     },
     "metadata": {
      "needs_background": "light"
     },
     "output_type": "display_data"
    }
   ],
   "source": [
    "plt.contourf(X1_, X2_, predictions, cmap='Paired')\n",
    "\n",
    "for class_value in range(3):\n",
    "    \n",
    "    row_ix = np.where(Y.T == class_value)\n",
    "    \n",
    "    plt.scatter(X[0, row_ix], X[1, row_ix], cmap='Paired')"
   ]
  }
 ],
 "metadata": {
  "kernelspec": {
   "display_name": "Python 3",
   "language": "python",
   "name": "python3"
  },
  "language_info": {
   "codemirror_mode": {
    "name": "ipython",
    "version": 3
   },
   "file_extension": ".py",
   "mimetype": "text/x-python",
   "name": "python",
   "nbconvert_exporter": "python",
   "pygments_lexer": "ipython3",
   "version": "3.9.4"
  }
 },
 "nbformat": 4,
 "nbformat_minor": 5
}
